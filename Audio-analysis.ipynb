{
  "nbformat": 4,
  "nbformat_minor": 0,
  "metadata": {
    "colab": {
      "name": "IE643_190100027_CHALLENGE_CODE.ipynb",
      "provenance": [],
      "collapsed_sections": []
    },
    "kernelspec": {
      "name": "python3",
      "display_name": "Python 3"
    },
    "language_info": {
      "name": "python"
    }
  },
  "cells": [
    {
      "cell_type": "code",
      "metadata": {
        "id": "hsX0yqYZA_Hy",
        "colab": {
          "base_uri": "https://localhost:8080/"
        },
        "outputId": "e8edbdaf-c865-4c17-b5f1-47c2f908b819"
      },
      "source": [
        "!pip install torchaudio boto3\n",
        "\n",
        "#from __future__ import print_function, division\n",
        "import os\n",
        "import torch\n",
        "import torch.nn as nn\n",
        "import torch.nn.functional as F\n",
        "import pandas as pd\n",
        "#from skimage import io, transform\n",
        "import numpy as np\n",
        "import matplotlib.pyplot as plt\n",
        "from torch.utils.data import Dataset, DataLoader, random_split\n",
        "#from torchvision import transforms, utils\n",
        "import torchaudio\n",
        "#import torchaudio.functional as F\n",
        "import torchaudio.transforms as T\n",
        "import torchvision\n",
        "import torchvision.transforms as transforms\n",
        "import torch.optim as optim\n",
        "import PIL\n",
        "from scipy import signal"
      ],
      "execution_count": 1,
      "outputs": [
        {
          "output_type": "stream",
          "name": "stdout",
          "text": [
            "Requirement already satisfied: torchaudio in /usr/local/lib/python3.7/dist-packages (0.10.0+cu111)\n",
            "Requirement already satisfied: boto3 in /usr/local/lib/python3.7/dist-packages (1.20.11)\n",
            "Requirement already satisfied: torch==1.10.0 in /usr/local/lib/python3.7/dist-packages (from torchaudio) (1.10.0+cu111)\n",
            "Requirement already satisfied: typing-extensions in /usr/local/lib/python3.7/dist-packages (from torch==1.10.0->torchaudio) (3.10.0.2)\n",
            "Requirement already satisfied: jmespath<1.0.0,>=0.7.1 in /usr/local/lib/python3.7/dist-packages (from boto3) (0.10.0)\n",
            "Requirement already satisfied: botocore<1.24.0,>=1.23.11 in /usr/local/lib/python3.7/dist-packages (from boto3) (1.23.11)\n",
            "Requirement already satisfied: s3transfer<0.6.0,>=0.5.0 in /usr/local/lib/python3.7/dist-packages (from boto3) (0.5.0)\n",
            "Requirement already satisfied: urllib3<1.27,>=1.25.4 in /usr/local/lib/python3.7/dist-packages (from botocore<1.24.0,>=1.23.11->boto3) (1.26.7)\n",
            "Requirement already satisfied: python-dateutil<3.0.0,>=2.1 in /usr/local/lib/python3.7/dist-packages (from botocore<1.24.0,>=1.23.11->boto3) (2.8.2)\n",
            "Requirement already satisfied: six>=1.5 in /usr/local/lib/python3.7/dist-packages (from python-dateutil<3.0.0,>=2.1->botocore<1.24.0,>=1.23.11->boto3) (1.15.0)\n"
          ]
        }
      ]
    },
    {
      "cell_type": "code",
      "metadata": {
        "colab": {
          "base_uri": "https://localhost:8080/"
        },
        "id": "4JiX7Hzb5wQT",
        "outputId": "8655cdae-9096-474b-bc25-c7da71c70a0e"
      },
      "source": [
        "from google.colab import drive\n",
        "drive.mount(\"/content/gdrive\")"
      ],
      "execution_count": 2,
      "outputs": [
        {
          "output_type": "stream",
          "name": "stdout",
          "text": [
            "Drive already mounted at /content/gdrive; to attempt to forcibly remount, call drive.mount(\"/content/gdrive\", force_remount=True).\n"
          ]
        }
      ]
    },
    {
      "cell_type": "code",
      "metadata": {
        "colab": {
          "base_uri": "https://localhost:8080/"
        },
        "id": "h9rAdNYJG8Ly",
        "outputId": "931e2d80-9e5d-4bb6-b764-2ed9301bd097"
      },
      "source": [
        "for i in [os.path.join(\"/content/gdrive/MyDrive/challenge_dataset\",k) for k in os.listdir(\"/content/gdrive/MyDrive/challenge_dataset\")]:\n",
        "  for z in os.listdir(i):\n",
        "    metadata = torchaudio.info(os.path.join(i,z))\n",
        "    if metadata.num_channels != 1:\n",
        "      print(\"channels : \", metadata.num_channels)\n",
        "    if metadata.sample_rate != 44100:\n",
        "      print(\"sample_rate : \",metadata.sample_rate)\n",
        "    if metadata.num_frames != 63000:\n",
        "      print(\"num_frames\", metadata.num_frames)\n",
        "    if metadata.bits_per_sample != 16:\n",
        "      print(\"bits_per_sample : \",metadata.bits_per_sample)\n",
        "# confirms that all the audio files have single channel and same sample_rate and same bits_per_sample, but have varying num_frames, so we have to make\n",
        "# all audio files of same length"
      ],
      "execution_count": 3,
      "outputs": [
        {
          "output_type": "stream",
          "name": "stdout",
          "text": [
            "num_frames 74970\n",
            "num_frames 404407\n",
            "num_frames 338688\n",
            "num_frames 97020\n",
            "num_frames 66150\n",
            "num_frames 316982\n",
            "num_frames 450350\n",
            "num_frames 61740\n",
            "num_frames 333376\n",
            "num_frames 88200\n",
            "num_frames 338688\n",
            "num_frames 455328\n",
            "num_frames 65895\n",
            "num_frames 88200\n",
            "num_frames 140894\n",
            "num_frames 288876\n",
            "num_frames 346757\n",
            "num_frames 380503\n",
            "num_frames 243767\n",
            "num_frames 83901\n",
            "num_frames 72355\n",
            "num_frames 49153\n",
            "num_frames 394829\n",
            "num_frames 943212\n",
            "num_frames 396288\n",
            "num_frames 392876\n",
            "num_frames 112716\n",
            "num_frames 264600\n",
            "num_frames 96436\n",
            "num_frames 182400\n",
            "num_frames 838383\n",
            "num_frames 64751\n",
            "num_frames 349235\n",
            "num_frames 329348\n",
            "num_frames 604800\n",
            "num_frames 264600\n",
            "num_frames 441000\n",
            "num_frames 19304\n",
            "num_frames 441000\n",
            "num_frames 441000\n",
            "num_frames 169600\n",
            "num_frames 365148\n",
            "num_frames 846251\n",
            "num_frames 705600\n",
            "num_frames 441000\n",
            "num_frames 122040\n",
            "num_frames 88200\n",
            "num_frames 110250\n",
            "num_frames 30000\n",
            "num_frames 352800\n",
            "num_frames 441000\n",
            "num_frames 149404\n",
            "num_frames 84672\n",
            "num_frames 919261\n",
            "num_frames 215002\n",
            "num_frames 81029\n",
            "num_frames 154382\n",
            "num_frames 222264\n",
            "num_frames 93312\n",
            "num_frames 118781\n",
            "num_frames 63469\n",
            "num_frames 106465\n",
            "num_frames 38794\n",
            "num_frames 147100\n",
            "num_frames 133632\n",
            "num_frames 70052\n",
            "num_frames 137813\n",
            "num_frames 68839\n",
            "num_frames 139315\n",
            "num_frames 121895\n",
            "num_frames 271143\n",
            "num_frames 192163\n",
            "num_frames 131112\n",
            "num_frames 45373\n",
            "num_frames 187919\n",
            "num_frames 73704\n",
            "num_frames 83643\n",
            "num_frames 99328\n",
            "num_frames 135364\n",
            "num_frames 139582\n",
            "num_frames 65536\n",
            "num_frames 16910\n",
            "num_frames 14080\n",
            "num_frames 197633\n",
            "num_frames 231424\n",
            "num_frames 45331\n",
            "num_frames 608458\n",
            "num_frames 71875\n",
            "num_frames 38970\n",
            "num_frames 60449\n",
            "num_frames 149114\n",
            "num_frames 336798\n",
            "num_frames 132934\n",
            "num_frames 1145718\n",
            "num_frames 139264\n",
            "num_frames 566784\n",
            "num_frames 166358\n",
            "num_frames 118784\n",
            "num_frames 207586\n",
            "num_frames 94450\n",
            "num_frames 473820\n",
            "num_frames 264600\n",
            "num_frames 97229\n",
            "num_frames 215750\n",
            "num_frames 63316\n",
            "num_frames 132103\n",
            "num_frames 177152\n",
            "num_frames 44992\n",
            "num_frames 638568\n",
            "num_frames 492509\n",
            "num_frames 230809\n",
            "num_frames 522789\n",
            "num_frames 75994\n",
            "num_frames 35807\n",
            "num_frames 24981\n",
            "num_frames 19097\n",
            "num_frames 166912\n",
            "num_frames 171455\n"
          ]
        }
      ]
    },
    {
      "cell_type": "code",
      "metadata": {
        "id": "nG1wDfTcQAD_"
      },
      "source": [
        "num_frames = []\n",
        "for i in [os.path.join(\"/content/gdrive/MyDrive/challenge_dataset\",k) for k in os.listdir(\"/content/gdrive/MyDrive/challenge_dataset\")]:\n",
        "  for z in os.listdir(i):\n",
        "    metadata = torchaudio.info(os.path.join(i,z))\n",
        "    num_frames.append(metadata.num_frames)"
      ],
      "execution_count": 4,
      "outputs": []
    },
    {
      "cell_type": "code",
      "metadata": {
        "colab": {
          "base_uri": "https://localhost:8080/"
        },
        "id": "GAIYBxChQLnE",
        "outputId": "74f022bb-e12a-4493-ab15-a7f382fd9a6b"
      },
      "source": [
        "print(min(num_frames))"
      ],
      "execution_count": 5,
      "outputs": [
        {
          "output_type": "stream",
          "name": "stdout",
          "text": [
            "14080\n"
          ]
        }
      ]
    },
    {
      "cell_type": "code",
      "metadata": {
        "id": "m5jXIQCDQ0pI"
      },
      "source": [
        "def resize(waveform,sample_rate,max_time):\n",
        "  max_length = sample_rate//1000*max_time\n",
        "  rows_len,waveform_len = waveform.shape\n",
        "  if(waveform_len<max_length):\n",
        "    begin_len = (max_length-waveform_len)//2\n",
        "    end_len = max_length-waveform_len-begin_len\n",
        "    begin_pad = torch.zeros((rows_len, begin_len))\n",
        "    end_pad = torch.zeros((rows_len, end_len))\n",
        "    waveform = torch.cat((begin_pad, waveform, end_pad), 1)\n",
        "  else:\n",
        "    waveform = waveform[:,:max_length]\n",
        "  return waveform"
      ],
      "execution_count": 6,
      "outputs": []
    },
    {
      "cell_type": "code",
      "metadata": {
        "colab": {
          "base_uri": "https://localhost:8080/"
        },
        "id": "q7y6X3fuNyBV",
        "outputId": "820da0a1-75c5-4445-9545-096a244e03b8"
      },
      "source": [
        "print(metadata)\n",
        "waveform, sample_rate= torchaudio.load(os.path.join(i,z))\n",
        "print(waveform.shape)\n",
        "print(z)"
      ],
      "execution_count": 7,
      "outputs": [
        {
          "output_type": "stream",
          "name": "stdout",
          "text": [
            "AudioMetaData(sample_rate=44100, num_frames=63000, num_channels=1, bits_per_sample=16, encoding=PCM_S)\n",
            "torch.Size([1, 63000])\n",
            "123805.wav\n"
          ]
        }
      ]
    },
    {
      "cell_type": "code",
      "metadata": {
        "id": "PsxczxUcOzA1"
      },
      "source": [
        "n_fft = 1024\n",
        "win_length = None\n",
        "hop_length = 512\n",
        "\n",
        "# define transformation\n",
        "spect = T.MelSpectrogram(\n",
        "    n_fft=n_fft,\n",
        "    win_length=win_length,\n",
        "    hop_length=hop_length,\n",
        "    center=True,\n",
        "    pad_mode=\"reflect\",\n",
        "    power=2.0,\n",
        "    n_mels = 128\n",
        ")\n",
        "todb = T.AmplitudeToDB(top_db = 70)"
      ],
      "execution_count": 8,
      "outputs": []
    },
    {
      "cell_type": "code",
      "metadata": {
        "id": "DoKCWXGbBEgH"
      },
      "source": [
        "class My_Dataset(Dataset):\n",
        "  def __init__(self,path):\n",
        "    self.classes = os.listdir(path)\n",
        "    self.len = 0\n",
        "    self.audios_path = []\n",
        "    #self.audios_id = []\n",
        "    for i in self.classes:\n",
        "      new_path = os.path.join(path,i)\n",
        "      for j in os.listdir(new_path):\n",
        "        self.audios_path.append([os.path.join(new_path,j),(i)])\n",
        "      #self.audios_dirs = os.listdir(new_path)\n",
        "      #self.audios_path.append(self.audios_dirs)\n",
        "      #self.len += len(self.audios_dirs)\n",
        "  def __len__(self):\n",
        "    return len(self.audios_path)\n",
        "  def __getitem__(self,idx):\n",
        "    waveform, sample_rate = torchaudio.load(self.audios_path[idx][0])\n",
        "    waveform = resize(waveform,sample_rate,4000)\n",
        "    waveform = spect(waveform)\n",
        "    waveform = todb(waveform)\n",
        "    waveform = torch.squeeze(waveform)\n",
        "    waveform = waveform.numpy()\n",
        "    new_waveform = []\n",
        "    for i in range(128):\n",
        "      #print(waveform)\n",
        "      #print(signal.resample(waveform[i],num = 128))\n",
        "      new_waveform.append(signal.resample(waveform[i],num = 128))\n",
        "    #print(new_waveform)\n",
        "    new_waveform = np.array(new_waveform)\n",
        "    new_waveform = torch.from_numpy(new_waveform)\n",
        "    label = np.zeros(7)\n",
        "    label[int(self.audios_path[idx][1])-1] = 1\n",
        "    self.audios_path[idx][1]\n",
        "    \n",
        "    #new_waveform =  transforms.Normalize((0.5,0.5), (0.5,0.5))(new_waveform)\n",
        "    new_waveform = torch.unsqueeze(new_waveform,0)\n",
        "    return new_waveform,label"
      ],
      "execution_count": 130,
      "outputs": []
    },
    {
      "cell_type": "code",
      "metadata": {
        "colab": {
          "base_uri": "https://localhost:8080/"
        },
        "id": "MI3FqYyibrkm",
        "outputId": "186fb9b1-5558-4d6a-e0b3-37c53833da76"
      },
      "source": [
        "audio_dataset = My_Dataset(\"/content/gdrive/MyDrive/challenge_dataset\")\n",
        "audio_dataset[0][0].shape"
      ],
      "execution_count": 131,
      "outputs": [
        {
          "output_type": "execute_result",
          "data": {
            "text/plain": [
              "torch.Size([1, 128, 128])"
            ]
          },
          "metadata": {},
          "execution_count": 131
        }
      ]
    },
    {
      "cell_type": "code",
      "metadata": {
        "id": "y8Zs2vpkH97E"
      },
      "source": [
        "audio_dataset = My_Dataset(\"/content/gdrive/MyDrive/challenge_dataset\")\n",
        "train_len = int(0.7*len(audio_dataset))\n",
        "val_len = int(0.15*len(audio_dataset))\n",
        "test_len = len(audio_dataset) - train_len - val_len\n",
        "train_data, val_data, test_data = random_split(audio_dataset, [train_len, val_len, test_len], generator=torch.Generator().manual_seed(42))\n",
        "train_dl = DataLoader(train_data,batch_size=10,shuffle = True)\n",
        "val_dl = DataLoader(val_data,batch_size=10,shuffle = True)\n",
        "test_dl = DataLoader(test_data,batch_size=10,shuffle = True)"
      ],
      "execution_count": 132,
      "outputs": []
    },
    {
      "cell_type": "code",
      "metadata": {
        "id": "UWCw9T6rgkWa"
      },
      "source": [
        "batch_size = 10\n",
        "\n",
        "class Model(nn.Module):\n",
        "    def __init__(self):\n",
        "        super().__init__()\n",
        "        self.conv1 = nn.Conv2d(1, 4, 8)\n",
        "        self.pool = nn.MaxPool2d(4, 4)\n",
        "        self.conv2 = nn.Conv2d(4, 10, 10)\n",
        "        self.fc1 = nn.Linear(250, 256)\n",
        "        self.fc2 = nn.Linear(256, 64)\n",
        "        self.fc3 = nn.Linear(64, 7)\n",
        "\n",
        "    def forward(self, x):\n",
        "        x = self.pool(F.relu(self.conv1(x)))\n",
        "        x = self.pool(F.relu(self.conv2(x)))\n",
        "        x = torch.flatten(x, 1) # flatten all dimensions except batch\n",
        "        x = F.relu(self.fc1(x))\n",
        "        x = F.relu(self.fc2(x))\n",
        "        x = self.fc3(x)\n",
        "        return x\n",
        "\n",
        "model = Model()\n",
        "\n",
        "criteria = nn.CrossEntropyLoss()\n",
        "optimizer = optim.SGD(model.parameters(), lr=0.001)\n",
        "\n",
        "\n"
      ],
      "execution_count": 158,
      "outputs": []
    },
    {
      "cell_type": "code",
      "metadata": {
        "colab": {
          "base_uri": "https://localhost:8080/"
        },
        "id": "eTIBoEVblGmX",
        "outputId": "cdc19887-fd27-45c3-cd54-d3b6dafc396d"
      },
      "source": [
        "loss_arr = []\n",
        "for epoch in range(100):  # loop over the dataset multiple times\n",
        "\n",
        "  running_loss = 0.0\n",
        "  for i, data in enumerate(train_dl, 0):\n",
        "    #print(i)\n",
        "    # get the inputs; data is a list of [inputs, labels]\n",
        "    inputs, labels = data\n",
        "    #print(inputs.shape)\n",
        "    # zero the parameter gradients\n",
        "    optimizer.zero_grad()\n",
        "    #print(labels)\n",
        "    # forward + backward + optimize\n",
        "    outputs = model(inputs)\n",
        "    loss = criteria(outputs, labels)\n",
        "    loss.backward()\n",
        "    optimizer.step()\n",
        "    # print statistics\n",
        "    running_loss += loss.item()\n",
        "    if i % 5 == 4:    # print every 20 mini-batches\n",
        "      print('[%d, %5d] loss: %.3f' %\n",
        "        (epoch + 1, i + 1, running_loss / 5))\n",
        "      loss_arr.append(running_loss/5)\n",
        "      running_loss = 0.0\n",
        "\n",
        "print('Finished Training')"
      ],
      "execution_count": 162,
      "outputs": [
        {
          "output_type": "stream",
          "name": "stdout",
          "text": [
            "[1,     5] loss: 0.174\n",
            "[2,     5] loss: 0.179\n",
            "[3,     5] loss: 0.115\n",
            "[4,     5] loss: 0.141\n",
            "[5,     5] loss: 0.241\n",
            "[6,     5] loss: 0.134\n",
            "[7,     5] loss: 0.175\n",
            "[8,     5] loss: 0.112\n",
            "[9,     5] loss: 0.112\n",
            "[10,     5] loss: 0.104\n",
            "[11,     5] loss: 0.074\n",
            "[12,     5] loss: 0.635\n",
            "[13,     5] loss: 0.111\n",
            "[14,     5] loss: 0.081\n",
            "[15,     5] loss: 0.091\n",
            "[16,     5] loss: 0.081\n",
            "[17,     5] loss: 0.070\n",
            "[18,     5] loss: 0.072\n",
            "[19,     5] loss: 0.072\n",
            "[20,     5] loss: 0.064\n",
            "[21,     5] loss: 0.059\n",
            "[22,     5] loss: 0.073\n",
            "[23,     5] loss: 0.068\n",
            "[24,     5] loss: 0.053\n",
            "[25,     5] loss: 0.052\n",
            "[26,     5] loss: 0.055\n",
            "[27,     5] loss: 0.064\n",
            "[28,     5] loss: 0.058\n",
            "[29,     5] loss: 0.043\n",
            "[30,     5] loss: 0.055\n",
            "[31,     5] loss: 0.041\n",
            "[32,     5] loss: 0.055\n",
            "[33,     5] loss: 0.035\n",
            "[34,     5] loss: 0.040\n",
            "[35,     5] loss: 0.041\n",
            "[36,     5] loss: 0.038\n",
            "[37,     5] loss: 0.040\n",
            "[38,     5] loss: 0.040\n",
            "[39,     5] loss: 0.034\n",
            "[40,     5] loss: 0.035\n",
            "[41,     5] loss: 0.031\n",
            "[42,     5] loss: 0.037\n",
            "[43,     5] loss: 0.029\n",
            "[44,     5] loss: 0.021\n",
            "[45,     5] loss: 0.034\n",
            "[46,     5] loss: 0.029\n",
            "[47,     5] loss: 0.024\n",
            "[48,     5] loss: 0.024\n",
            "[49,     5] loss: 0.029\n",
            "[50,     5] loss: 0.025\n",
            "[51,     5] loss: 0.025\n",
            "[52,     5] loss: 0.025\n",
            "[53,     5] loss: 0.027\n",
            "[54,     5] loss: 0.022\n",
            "[55,     5] loss: 0.019\n",
            "[56,     5] loss: 0.019\n",
            "[57,     5] loss: 0.020\n",
            "[58,     5] loss: 0.025\n",
            "[59,     5] loss: 0.021\n",
            "[60,     5] loss: 0.021\n",
            "[61,     5] loss: 0.019\n",
            "[62,     5] loss: 0.024\n",
            "[63,     5] loss: 0.021\n",
            "[64,     5] loss: 0.020\n",
            "[65,     5] loss: 0.019\n",
            "[66,     5] loss: 0.017\n",
            "[67,     5] loss: 0.020\n",
            "[68,     5] loss: 0.016\n",
            "[69,     5] loss: 0.017\n",
            "[70,     5] loss: 0.018\n",
            "[71,     5] loss: 0.017\n",
            "[72,     5] loss: 0.017\n",
            "[73,     5] loss: 0.016\n",
            "[74,     5] loss: 0.016\n",
            "[75,     5] loss: 0.017\n",
            "[76,     5] loss: 0.017\n",
            "[77,     5] loss: 0.015\n",
            "[78,     5] loss: 0.015\n",
            "[79,     5] loss: 0.013\n",
            "[80,     5] loss: 0.018\n",
            "[81,     5] loss: 0.012\n",
            "[82,     5] loss: 0.013\n",
            "[83,     5] loss: 0.014\n",
            "[84,     5] loss: 0.014\n",
            "[85,     5] loss: 0.012\n",
            "[86,     5] loss: 0.012\n",
            "[87,     5] loss: 0.013\n",
            "[88,     5] loss: 0.012\n",
            "[89,     5] loss: 0.013\n",
            "[90,     5] loss: 0.012\n",
            "[91,     5] loss: 0.013\n",
            "[92,     5] loss: 0.012\n",
            "[93,     5] loss: 0.012\n",
            "[94,     5] loss: 0.012\n",
            "[95,     5] loss: 0.012\n",
            "[96,     5] loss: 0.012\n",
            "[97,     5] loss: 0.010\n",
            "[98,     5] loss: 0.011\n",
            "[99,     5] loss: 0.011\n",
            "[100,     5] loss: 0.011\n",
            "Finished Training\n"
          ]
        }
      ]
    },
    {
      "cell_type": "code",
      "metadata": {
        "colab": {
          "base_uri": "https://localhost:8080/"
        },
        "id": "72F7UWfo8Mmx",
        "outputId": "af3a47f9-c997-48f5-d958-d51d2b857a11"
      },
      "source": [
        "print(loss_arr)"
      ],
      "execution_count": 163,
      "outputs": [
        {
          "output_type": "stream",
          "name": "stdout",
          "text": [
            "[0.17438063445559235, 0.17876530059147627, 0.11507727319840341, 0.14064096918096763, 0.2414692025352269, 0.13370346286334098, 0.17455451044254006, 0.11153685800149105, 0.11228327771474142, 0.10393871191336075, 0.07383908905205316, 0.6352690067023286, 0.1108732348086778, 0.08115484830865172, 0.09111390926409513, 0.08100429426413029, 0.06991106751956977, 0.07182458308991044, 0.07170376561349258, 0.06449228387151379, 0.059456490618322276, 0.07251736581150908, 0.06809269828168908, 0.053490559649653734, 0.051765974172303685, 0.0554561236849986, 0.06370151568044094, 0.057984990263285, 0.0431523124720843, 0.05477801401764737, 0.040842984613846056, 0.054627860416803745, 0.03543536031153054, 0.0399028014515352, 0.04087882572537638, 0.037514529623877024, 0.04017017608421157, 0.04040815374581143, 0.034200423030415546, 0.03516546867322177, 0.031096829524904022, 0.03680744750658051, 0.028668818011683472, 0.021332581730348465, 0.03426204932155088, 0.02894083760376816, 0.02406147430869169, 0.024311790798674338, 0.028615558490309924, 0.02505084958655061, 0.025169110683345937, 0.024735964078208782, 0.027214269880932986, 0.02214975916882395, 0.019223747532505515, 0.019371404343091852, 0.02004974202678568, 0.024576901926775467, 0.02050779395336576, 0.020566852991760243, 0.01939528687536949, 0.023617496415827187, 0.02051741893294093, 0.019887099383340684, 0.01874783721708809, 0.01703536138695199, 0.019517537120264022, 0.01611757381378993, 0.01704154201084748, 0.01809176979972108, 0.01679248502436167, 0.016867116023749983, 0.016174070692504754, 0.015703061852727844, 0.016608653833609426, 0.016964658767246874, 0.014952857752286946, 0.015142577385704497, 0.013269886220859917, 0.01773565881164359, 0.012426782241363982, 0.01303969707369106, 0.013555610084003999, 0.013905851341887682, 0.011566031903503244, 0.011751688042713796, 0.012844570872375696, 0.011941760238041752, 0.01310974312189501, 0.012416195814294043, 0.01271602967070976, 0.01192620719361912, 0.01183690878973721, 0.012073258443697341, 0.012248601514147596, 0.011854562852304299, 0.010409906933418825, 0.011042294074645725, 0.010963195007561809, 0.010501829565364459]\n"
          ]
        }
      ]
    },
    {
      "cell_type": "code",
      "metadata": {
        "colab": {
          "base_uri": "https://localhost:8080/"
        },
        "id": "5PiMwVZG9waR",
        "outputId": "6a84aa83-e58d-4021-edd0-45d64d1843fd"
      },
      "source": [
        "#validation loss\n",
        "total_loss = 0\n",
        "for i, data in enumerate(val_dl, 0):\n",
        "\n",
        "  inputs, labels = data\n",
        "  #optimizer.zero_grad()\n",
        "\n",
        "  # forward + backward + optimize\n",
        "  outputs = model(inputs)\n",
        "  loss = criteria(outputs, labels)\n",
        "  #loss.backward()\n",
        "  #optimizer.step()\n",
        "  # print statistics\n",
        "  total_loss += loss.item()\n",
        "\n",
        "\n",
        "print(total_loss/val_len)"
      ],
      "execution_count": 168,
      "outputs": [
        {
          "output_type": "stream",
          "name": "stdout",
          "text": [
            "0.506939574012713\n"
          ]
        }
      ]
    },
    {
      "cell_type": "code",
      "metadata": {
        "colab": {
          "base_uri": "https://localhost:8080/",
          "height": 296
        },
        "id": "krAh04hAlKWl",
        "outputId": "3408f550-485e-490d-8fb5-972fb593a9c8"
      },
      "source": [
        "plt.plot(np.linspace(0,100,100),loss_arr)\n",
        "plt.xlabel(\"epoch\")\n",
        "plt.ylabel(\"Losses\")\n",
        "\n"
      ],
      "execution_count": 169,
      "outputs": [
        {
          "output_type": "execute_result",
          "data": {
            "text/plain": [
              "Text(0, 0.5, 'Losses')"
            ]
          },
          "metadata": {},
          "execution_count": 169
        },
        {
          "output_type": "display_data",
          "data": {
            "image/png": "[encoded data removed]",
            "text/plain": [
              "<Figure size 432x288 with 1 Axes>"
            ]
          },
          "metadata": {
            "needs_background": "light"
          }
        }
      ]
    }
  ]
}